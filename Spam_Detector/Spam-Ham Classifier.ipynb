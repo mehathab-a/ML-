{
 "cells": [
  {
   "cell_type": "markdown",
   "id": "499c8fdc",
   "metadata": {},
   "source": [
    "# Spam-Ham Classifier"
   ]
  },
  {
   "cell_type": "code",
   "execution_count": null,
   "id": "8a23b42b",
   "metadata": {},
   "outputs": [],
   "source": []
  },
  {
   "cell_type": "code",
   "execution_count": 1,
   "id": "1d6af86b",
   "metadata": {},
   "outputs": [],
   "source": [
    "import pandas as pd\n",
    "import numpy as np\n",
    "import matplotlib.pyplot as plt\n",
    "import seaborn as sns"
   ]
  },
  {
   "cell_type": "code",
   "execution_count": 2,
   "id": "9a37c417",
   "metadata": {},
   "outputs": [],
   "source": [
    "df = pd.read_csv('../Spam_Detector/SMSSpamCollection',delimiter='\\t',header=None)"
   ]
  },
  {
   "cell_type": "code",
   "execution_count": 3,
   "id": "dc0760fd",
   "metadata": {},
   "outputs": [
    {
     "name": "stdout",
     "output_type": "stream",
     "text": [
      "Free entry in 2 a wkly comp to win FA Cup final tkts 21st May 2005. Text FA to 87121 to receive entry question(std txt rate)T&C's apply 08452810075over18's\n",
      "Free entry in 2 a wkly comp to win FA Cup final tkts 21st May 2005. Text FA to 87121 to receive entry question(std txt rate)T&C's apply 08452810075over18's\n"
     ]
    }
   ],
   "source": [
    "x = df[df[0]=='spam'][1].copy()\n",
    "for i in range(2):\n",
    "    print(x[2])"
   ]
  },
  {
   "cell_type": "code",
   "execution_count": 4,
   "id": "22285de7",
   "metadata": {},
   "outputs": [
    {
     "data": {
      "text/plain": [
       "ham     4825\n",
       "spam     747\n",
       "Name: 0, dtype: int64"
      ]
     },
     "execution_count": 4,
     "metadata": {},
     "output_type": "execute_result"
    }
   ],
   "source": [
    "df[0].value_counts()"
   ]
  },
  {
   "cell_type": "code",
   "execution_count": 5,
   "id": "4a4fcb39",
   "metadata": {},
   "outputs": [
    {
     "data": {
      "text/plain": [
       "0    0\n",
       "1    0\n",
       "dtype: int64"
      ]
     },
     "execution_count": 5,
     "metadata": {},
     "output_type": "execute_result"
    }
   ],
   "source": [
    "df.isna().sum()"
   ]
  },
  {
   "cell_type": "code",
   "execution_count": 6,
   "id": "58ab49bc",
   "metadata": {
    "scrolled": true
   },
   "outputs": [
    {
     "name": "stdout",
     "output_type": "stream",
     "text": [
      "<class 'pandas.core.frame.DataFrame'>\n",
      "RangeIndex: 5572 entries, 0 to 5571\n",
      "Data columns (total 2 columns):\n",
      " #   Column  Non-Null Count  Dtype \n",
      "---  ------  --------------  ----- \n",
      " 0   0       5572 non-null   object\n",
      " 1   1       5572 non-null   object\n",
      "dtypes: object(2)\n",
      "memory usage: 87.2+ KB\n"
     ]
    }
   ],
   "source": [
    "df.info()"
   ]
  },
  {
   "cell_type": "markdown",
   "id": "494d0b04",
   "metadata": {},
   "source": [
    "### Tranforming Text Data"
   ]
  },
  {
   "cell_type": "code",
   "execution_count": 7,
   "id": "db9461a5",
   "metadata": {},
   "outputs": [],
   "source": [
    "from sklearn.feature_extraction.text import TfidfVectorizer\n",
    "from sklearn.model_selection import GridSearchCV,cross_val_score,train_test_split\n",
    "x = df[1]\n",
    "y = df[0]"
   ]
  },
  {
   "cell_type": "code",
   "execution_count": 8,
   "id": "5eab5259",
   "metadata": {},
   "outputs": [
    {
     "name": "stdout",
     "output_type": "stream",
     "text": [
      "(4179,)\n",
      "(1393,)\n",
      "(4179,)\n",
      "209     You please give us connection today itself bef...\n",
      "3057                             Webpage s not available!\n",
      "5201    YOU VE WON! Your 4* Costa Del Sol Holiday or £...\n",
      "3761                       We'll join the  &lt;#&gt;  bus\n",
      "1136                      K do I need a login or anything\n",
      "                              ...                        \n",
      "826            Hmm .. Bits and pieces lol ... *sighs* ...\n",
      "3735                    4 tacos + 1 rajas burrito, right?\n",
      "2942    My supervisor find 4 me one lor i thk his stud...\n",
      "2064    URGENT! Your mobile No *********** WON a £2,00...\n",
      "4818    Me too. Mark is taking forever to pick up my p...\n",
      "Name: 1, Length: 4179, dtype: object\n"
     ]
    }
   ],
   "source": [
    "x_train,x_test,y_train,y_test = train_test_split(x,y,random_state=31)\n",
    "print(x_train.shape)\n",
    "print(x_test.shape)\n",
    "print(y_train.shape)\n",
    "print(x_train)"
   ]
  },
  {
   "cell_type": "code",
   "execution_count": 9,
   "id": "94dc6737",
   "metadata": {},
   "outputs": [],
   "source": [
    "transformer = TfidfVectorizer(lowercase=True,ngram_range=(1,1),norm='l1',strip_accents='ascii',stop_words='english')"
   ]
  },
  {
   "cell_type": "code",
   "execution_count": 10,
   "id": "73b81971",
   "metadata": {},
   "outputs": [],
   "source": [
    "x_train_trans = transformer.fit_transform(x_train).toarray()\n",
    "x_test_trans = transformer.transform(x_test).toarray()"
   ]
  },
  {
   "cell_type": "code",
   "execution_count": 11,
   "id": "ded65b92",
   "metadata": {},
   "outputs": [
    {
     "data": {
      "text/plain": [
       "7265"
      ]
     },
     "execution_count": 11,
     "metadata": {},
     "output_type": "execute_result"
    }
   ],
   "source": [
    "len(transformer.vocabulary_)"
   ]
  },
  {
   "cell_type": "code",
   "execution_count": 12,
   "id": "7e31dcd8",
   "metadata": {},
   "outputs": [
    {
     "name": "stdout",
     "output_type": "stream",
     "text": [
      "(4179, 7265)\n",
      "(1393, 7265)\n"
     ]
    }
   ],
   "source": [
    "print(x_train_trans.shape)\n",
    "print(x_test_trans.shape)"
   ]
  },
  {
   "cell_type": "code",
   "execution_count": 13,
   "id": "8eac4b62",
   "metadata": {},
   "outputs": [
    {
     "name": "stderr",
     "output_type": "stream",
     "text": [
      "2022-07-15 00:23:06.198338: W tensorflow/stream_executor/platform/default/dso_loader.cc:64] Could not load dynamic library 'libcudart.so.11.0'; dlerror: libcudart.so.11.0: cannot open shared object file: No such file or directory\n",
      "2022-07-15 00:23:06.198359: I tensorflow/stream_executor/cuda/cudart_stub.cc:29] Ignore above cudart dlerror if you do not have a GPU set up on your machine.\n"
     ]
    }
   ],
   "source": [
    "from sklearn.linear_model import LogisticRegression\n",
    "from sklearn.tree import DecisionTreeClassifier\n",
    "from sklearn.ensemble import RandomForestClassifier\n",
    "from sklearn.neighbors import KNeighborsClassifier\n",
    "from keras.models import Sequential\n",
    "from keras.layers import Dense\n",
    "from sklearn.metrics import accuracy_score"
   ]
  },
  {
   "cell_type": "code",
   "execution_count": 14,
   "id": "c9931da7",
   "metadata": {},
   "outputs": [],
   "source": [
    "def transform(y_val):\n",
    "    y_new = [1.0 if i=='spam' else 0.0 for i in y_val]\n",
    "    return y_new"
   ]
  },
  {
   "cell_type": "code",
   "execution_count": 15,
   "id": "8dd606c5",
   "metadata": {},
   "outputs": [
    {
     "name": "stdout",
     "output_type": "stream",
     "text": [
      "(4179,)\n"
     ]
    }
   ],
   "source": [
    "y_train = np.array(transform(y_train))\n",
    "y_test = np.array(transform(y_test))\n",
    "print(y_train.shape)"
   ]
  },
  {
   "cell_type": "markdown",
   "id": "2afd9cd0",
   "metadata": {},
   "source": [
    "## Model Training:"
   ]
  },
  {
   "cell_type": "code",
   "execution_count": 16,
   "id": "ddb6ed75",
   "metadata": {},
   "outputs": [],
   "source": [
    "models = [LogisticRegression(),\n",
    "         DecisionTreeClassifier(),\n",
    "         RandomForestClassifier(),\n",
    "         KNeighborsClassifier()]\n",
    "\n",
    "model_titles = ['LogisticRegression','DecisionTree','RandomForest','KNearestNeighbor']"
   ]
  },
  {
   "cell_type": "code",
   "execution_count": 17,
   "id": "7d2194bb",
   "metadata": {},
   "outputs": [
    {
     "name": "stdout",
     "output_type": "stream",
     "text": [
      "Model : LogisticRegression\n",
      "train Scores: 0.8655180665230916\n",
      "Test Score : 0.8650394831299354\n",
      "\n",
      "\n",
      "Model : DecisionTree\n",
      "train Scores: 1.0\n",
      "Test Score : 0.9669777458722182\n",
      "\n",
      "\n",
      "Model : RandomForest\n",
      "train Scores: 1.0\n",
      "Test Score : 0.9834888729361091\n",
      "\n",
      "\n",
      "Model : KNearestNeighbor\n",
      "train Scores: 0.9119406556592486\n",
      "Test Score : 0.9073941134242641\n",
      "\n",
      "\n"
     ]
    }
   ],
   "source": [
    "scores_train = []\n",
    "scores_test = []\n",
    "for i,model in enumerate(models):\n",
    "    estimator = model.fit(x_train_trans,y_train)\n",
    "    y_pred = model.predict(x_test_trans)\n",
    "    print(\"Model :\",model_titles[i])\n",
    "    scores_train.append(model.score(x_train_trans,y_train))\n",
    "    scores_test.append(model.score(x_test_trans,y_test))\n",
    "    print(\"train Scores:\",model.score(x_train_trans,y_train))\n",
    "    print(\"Test Score :\",model.score(x_test_trans,y_test))\n",
    "    print(\"\\n\")\n",
    "    "
   ]
  },
  {
   "cell_type": "code",
   "execution_count": 18,
   "id": "3b61c0db",
   "metadata": {},
   "outputs": [
    {
     "data": {
      "image/png": "[encoded data removed]",
      "text/plain": [
       "<Figure size 1080x504 with 1 Axes>"
      ]
     },
     "metadata": {
      "needs_background": "light"
     },
     "output_type": "display_data"
    }
   ],
   "source": [
    "plt.figure(figsize=(15,7))\n",
    "plt.plot(model_titles,scores_train,label=\"Training Score\")\n",
    "plt.plot(model_titles,scores_test,label='Testing Score')\n",
    "plt.legend()\n",
    "plt.show()"
   ]
  },
  {
   "cell_type": "code",
   "execution_count": 19,
   "id": "e2256708",
   "metadata": {},
   "outputs": [
    {
     "data": {
      "text/html": [
       "<style>#sk-container-id-1 {color: black;background-color: white;}#sk-container-id-1 pre{padding: 0;}#sk-container-id-1 div.sk-toggleable {background-color: white;}#sk-container-id-1 label.sk-toggleable__label {cursor: pointer;display: block;width: 100%;margin-bottom: 0;padding: 0.3em;box-sizing: border-box;text-align: center;}#sk-container-id-1 label.sk-toggleable__label-arrow:before {content: \"▸\";float: left;margin-right: 0.25em;color: #696969;}#sk-container-id-1 label.sk-toggleable__label-arrow:hover:before {color: black;}#sk-container-id-1 div.sk-estimator:hover label.sk-toggleable__label-arrow:before {color: black;}#sk-container-id-1 div.sk-toggleable__content {max-height: 0;max-width: 0;overflow: hidden;text-align: left;background-color: #f0f8ff;}#sk-container-id-1 div.sk-toggleable__content pre {margin: 0.2em;color: black;border-radius: 0.25em;background-color: #f0f8ff;}#sk-container-id-1 input.sk-toggleable__control:checked~div.sk-toggleable__content {max-height: 200px;max-width: 100%;overflow: auto;}#sk-container-id-1 input.sk-toggleable__control:checked~label.sk-toggleable__label-arrow:before {content: \"▾\";}#sk-container-id-1 div.sk-estimator input.sk-toggleable__control:checked~label.sk-toggleable__label {background-color: #d4ebff;}#sk-container-id-1 div.sk-label input.sk-toggleable__control:checked~label.sk-toggleable__label {background-color: #d4ebff;}#sk-container-id-1 input.sk-hidden--visually {border: 0;clip: rect(1px 1px 1px 1px);clip: rect(1px, 1px, 1px, 1px);height: 1px;margin: -1px;overflow: hidden;padding: 0;position: absolute;width: 1px;}#sk-container-id-1 div.sk-estimator {font-family: monospace;background-color: #f0f8ff;border: 1px dotted black;border-radius: 0.25em;box-sizing: border-box;margin-bottom: 0.5em;}#sk-container-id-1 div.sk-estimator:hover {background-color: #d4ebff;}#sk-container-id-1 div.sk-parallel-item::after {content: \"\";width: 100%;border-bottom: 1px solid gray;flex-grow: 1;}#sk-container-id-1 div.sk-label:hover label.sk-toggleable__label {background-color: #d4ebff;}#sk-container-id-1 div.sk-serial::before {content: \"\";position: absolute;border-left: 1px solid gray;box-sizing: border-box;top: 0;bottom: 0;left: 50%;z-index: 0;}#sk-container-id-1 div.sk-serial {display: flex;flex-direction: column;align-items: center;background-color: white;padding-right: 0.2em;padding-left: 0.2em;position: relative;}#sk-container-id-1 div.sk-item {position: relative;z-index: 1;}#sk-container-id-1 div.sk-parallel {display: flex;align-items: stretch;justify-content: center;background-color: white;position: relative;}#sk-container-id-1 div.sk-item::before, #sk-container-id-1 div.sk-parallel-item::before {content: \"\";position: absolute;border-left: 1px solid gray;box-sizing: border-box;top: 0;bottom: 0;left: 50%;z-index: -1;}#sk-container-id-1 div.sk-parallel-item {display: flex;flex-direction: column;z-index: 1;position: relative;background-color: white;}#sk-container-id-1 div.sk-parallel-item:first-child::after {align-self: flex-end;width: 50%;}#sk-container-id-1 div.sk-parallel-item:last-child::after {align-self: flex-start;width: 50%;}#sk-container-id-1 div.sk-parallel-item:only-child::after {width: 0;}#sk-container-id-1 div.sk-dashed-wrapped {border: 1px dashed gray;margin: 0 0.4em 0.5em 0.4em;box-sizing: border-box;padding-bottom: 0.4em;background-color: white;}#sk-container-id-1 div.sk-label label {font-family: monospace;font-weight: bold;display: inline-block;line-height: 1.2em;}#sk-container-id-1 div.sk-label-container {text-align: center;}#sk-container-id-1 div.sk-container {/* jupyter's `normalize.less` sets `[hidden] { display: none; }` but bootstrap.min.css set `[hidden] { display: none !important; }` so we also need the `!important` here to be able to override the default hidden behavior on the sphinx rendered scikit-learn.org. See: https://github.com/scikit-learn/scikit-learn/issues/21755 */display: inline-block !important;position: relative;}#sk-container-id-1 div.sk-text-repr-fallback {display: none;}</style><div id=\"sk-container-id-1\" class=\"sk-top-container\"><div class=\"sk-text-repr-fallback\"><pre>RandomForestClassifier(min_samples_split=5, n_estimators=500, random_state=31)</pre><b>In a Jupyter environment, please rerun this cell to show the HTML representation or trust the notebook. <br />On GitHub, the HTML representation is unable to render, please try loading this page with nbviewer.org.</b></div><div class=\"sk-container\" hidden><div class=\"sk-item\"><div class=\"sk-estimator sk-toggleable\"><input class=\"sk-toggleable__control sk-hidden--visually\" id=\"sk-estimator-id-1\" type=\"checkbox\" checked><label for=\"sk-estimator-id-1\" class=\"sk-toggleable__label sk-toggleable__label-arrow\">RandomForestClassifier</label><div class=\"sk-toggleable__content\"><pre>RandomForestClassifier(min_samples_split=5, n_estimators=500, random_state=31)</pre></div></div></div></div></div>"
      ],
      "text/plain": [
       "RandomForestClassifier(min_samples_split=5, n_estimators=500, random_state=31)"
      ]
     },
     "execution_count": 19,
     "metadata": {},
     "output_type": "execute_result"
    }
   ],
   "source": [
    "classifier = RandomForestClassifier(min_samples_leaf=1,min_samples_split=5,n_estimators=500,random_state=31)\n",
    "classifier.fit(x_train_trans,y_train)"
   ]
  },
  {
   "cell_type": "code",
   "execution_count": 20,
   "id": "b04a17f6",
   "metadata": {},
   "outputs": [
    {
     "name": "stdout",
     "output_type": "stream",
     "text": [
      "1.0\n",
      "0.9834888729361091\n"
     ]
    }
   ],
   "source": [
    "print(classifier.score(x_train_trans,y_train))\n",
    "print(classifier.score(x_test_trans,y_test))"
   ]
  },
  {
   "cell_type": "code",
   "execution_count": 21,
   "id": "b323d080",
   "metadata": {},
   "outputs": [],
   "source": [
    "from sklearn.metrics import ConfusionMatrixDisplay,confusion_matrix,classification_report"
   ]
  },
  {
   "cell_type": "code",
   "execution_count": 22,
   "id": "c740c08d",
   "metadata": {},
   "outputs": [
    {
     "name": "stdout",
     "output_type": "stream",
     "text": [
      "(1393,)\n"
     ]
    }
   ],
   "source": [
    "y_mlp_pred = np.round(classifier.predict(x_test_trans),0)\n",
    "print(y_test.shape)"
   ]
  },
  {
   "cell_type": "code",
   "execution_count": 23,
   "id": "0ce8ed6c",
   "metadata": {},
   "outputs": [
    {
     "data": {
      "text/plain": [
       "<sklearn.metrics._plot.confusion_matrix.ConfusionMatrixDisplay at 0x7f3bbcb6afb0>"
      ]
     },
     "execution_count": 23,
     "metadata": {},
     "output_type": "execute_result"
    },
    {
     "data": {
      "image/png": "[encoded data removed]",
      "text/plain": [
       "<Figure size 432x288 with 2 Axes>"
      ]
     },
     "metadata": {
      "needs_background": "light"
     },
     "output_type": "display_data"
    }
   ],
   "source": [
    "ConfusionMatrixDisplay(confusion_matrix(y_test,y_mlp_pred),display_labels=['Ham','Spam']).plot()"
   ]
  },
  {
   "cell_type": "code",
   "execution_count": null,
   "id": "4b2ebb5c",
   "metadata": {},
   "outputs": [],
   "source": []
  },
  {
   "cell_type": "code",
   "execution_count": 24,
   "id": "92256cb1",
   "metadata": {},
   "outputs": [
    {
     "name": "stdout",
     "output_type": "stream",
     "text": [
      "Model: \"sequential\"\n",
      "_________________________________________________________________\n",
      " Layer (type)                Output Shape              Param #   \n",
      "=================================================================\n",
      " dense (Dense)               (None, 64)                465024    \n",
      "                                                                 \n",
      " dense_1 (Dense)             (None, 64)                4160      \n",
      "                                                                 \n",
      " dense_2 (Dense)             (None, 1)                 65        \n",
      "                                                                 \n",
      "=================================================================\n",
      "Total params: 469,249\n",
      "Trainable params: 469,249\n",
      "Non-trainable params: 0\n",
      "_________________________________________________________________\n"
     ]
    },
    {
     "name": "stderr",
     "output_type": "stream",
     "text": [
      "2022-07-15 00:24:44.279273: I tensorflow/stream_executor/cuda/cuda_gpu_executor.cc:975] successful NUMA node read from SysFS had negative value (-1), but there must be at least one NUMA node, so returning NUMA node zero\n",
      "2022-07-15 00:24:44.279439: W tensorflow/stream_executor/platform/default/dso_loader.cc:64] Could not load dynamic library 'libcudart.so.11.0'; dlerror: libcudart.so.11.0: cannot open shared object file: No such file or directory\n",
      "2022-07-15 00:24:44.279482: W tensorflow/stream_executor/platform/default/dso_loader.cc:64] Could not load dynamic library 'libcublas.so.11'; dlerror: libcublas.so.11: cannot open shared object file: No such file or directory\n",
      "2022-07-15 00:24:44.279521: W tensorflow/stream_executor/platform/default/dso_loader.cc:64] Could not load dynamic library 'libcublasLt.so.11'; dlerror: libcublasLt.so.11: cannot open shared object file: No such file or directory\n",
      "2022-07-15 00:24:44.279558: W tensorflow/stream_executor/platform/default/dso_loader.cc:64] Could not load dynamic library 'libcufft.so.10'; dlerror: libcufft.so.10: cannot open shared object file: No such file or directory\n",
      "2022-07-15 00:24:44.279596: W tensorflow/stream_executor/platform/default/dso_loader.cc:64] Could not load dynamic library 'libcurand.so.10'; dlerror: libcurand.so.10: cannot open shared object file: No such file or directory\n",
      "2022-07-15 00:24:44.279633: W tensorflow/stream_executor/platform/default/dso_loader.cc:64] Could not load dynamic library 'libcusolver.so.11'; dlerror: libcusolver.so.11: cannot open shared object file: No such file or directory\n",
      "2022-07-15 00:24:44.279671: W tensorflow/stream_executor/platform/default/dso_loader.cc:64] Could not load dynamic library 'libcusparse.so.11'; dlerror: libcusparse.so.11: cannot open shared object file: No such file or directory\n",
      "2022-07-15 00:24:44.279707: W tensorflow/stream_executor/platform/default/dso_loader.cc:64] Could not load dynamic library 'libcudnn.so.8'; dlerror: libcudnn.so.8: cannot open shared object file: No such file or directory\n",
      "2022-07-15 00:24:44.279713: W tensorflow/core/common_runtime/gpu/gpu_device.cc:1850] Cannot dlopen some GPU libraries. Please make sure the missing libraries mentioned above are installed properly if you would like to use GPU. Follow the guide at https://www.tensorflow.org/install/gpu for how to download and setup the required libraries for your platform.\n",
      "Skipping registering GPU devices...\n",
      "2022-07-15 00:24:44.280227: I tensorflow/core/platform/cpu_feature_guard.cc:193] This TensorFlow binary is optimized with oneAPI Deep Neural Network Library (oneDNN) to use the following CPU instructions in performance-critical operations:  AVX2 FMA\n",
      "To enable them in other operations, rebuild TensorFlow with the appropriate compiler flags.\n"
     ]
    }
   ],
   "source": [
    "model = Sequential()\n",
    "model.add(Dense(64,activation='relu',input_shape=[x_train_trans.shape[1],],kernel_initializer='uniform'))\n",
    "model.add(Dense(64,activation='relu',kernel_initializer='uniform'))\n",
    "model.add(Dense(1,activation='sigmoid',kernel_initializer='uniform'))\n",
    "model.summary()\n",
    "model.compile(optimizer='adam',loss='binary_crossentropy',metrics=['accuracy'])"
   ]
  },
  {
   "cell_type": "code",
   "execution_count": 25,
   "id": "333574f8",
   "metadata": {},
   "outputs": [
    {
     "name": "stdout",
     "output_type": "stream",
     "text": [
      "Epoch 1/20\n",
      "33/33 [==============================] - 1s 7ms/step - loss: 0.6628 - accuracy: 0.8555 - val_loss: 0.5899 - val_accuracy: 0.8650\n",
      "Epoch 2/20\n",
      "33/33 [==============================] - 0s 4ms/step - loss: 0.4452 - accuracy: 0.8662 - val_loss: 0.3103 - val_accuracy: 0.8650\n",
      "Epoch 3/20\n",
      "33/33 [==============================] - 0s 4ms/step - loss: 0.2745 - accuracy: 0.8662 - val_loss: 0.2351 - val_accuracy: 0.8650\n",
      "Epoch 4/20\n",
      "33/33 [==============================] - 0s 4ms/step - loss: 0.1981 - accuracy: 0.8662 - val_loss: 0.1791 - val_accuracy: 0.8650\n",
      "Epoch 5/20\n",
      "33/33 [==============================] - 0s 4ms/step - loss: 0.1514 - accuracy: 0.8662 - val_loss: 0.1550 - val_accuracy: 0.8650\n",
      "Epoch 6/20\n",
      "33/33 [==============================] - 0s 4ms/step - loss: 0.1259 - accuracy: 0.8662 - val_loss: 0.1409 - val_accuracy: 0.8650\n",
      "Epoch 7/20\n",
      "33/33 [==============================] - 0s 4ms/step - loss: 0.1113 - accuracy: 0.8662 - val_loss: 0.1375 - val_accuracy: 0.8650\n",
      "Epoch 8/20\n",
      "33/33 [==============================] - 0s 4ms/step - loss: 0.1048 - accuracy: 0.8662 - val_loss: 0.1374 - val_accuracy: 0.8650\n",
      "Epoch 9/20\n",
      "33/33 [==============================] - 0s 4ms/step - loss: 0.1004 - accuracy: 0.9787 - val_loss: 0.1372 - val_accuracy: 0.9691\n",
      "Epoch 10/20\n",
      "33/33 [==============================] - 0s 4ms/step - loss: 0.0973 - accuracy: 0.9933 - val_loss: 0.1384 - val_accuracy: 0.9691\n",
      "Epoch 11/20\n",
      "33/33 [==============================] - 0s 4ms/step - loss: 0.0947 - accuracy: 0.9964 - val_loss: 0.1402 - val_accuracy: 0.9663\n",
      "Epoch 12/20\n",
      "33/33 [==============================] - 0s 4ms/step - loss: 0.0925 - accuracy: 0.9974 - val_loss: 0.1393 - val_accuracy: 0.9698\n",
      "Epoch 13/20\n",
      "33/33 [==============================] - 0s 4ms/step - loss: 0.0906 - accuracy: 0.9986 - val_loss: 0.1415 - val_accuracy: 0.9684\n",
      "Epoch 14/20\n",
      "33/33 [==============================] - 0s 4ms/step - loss: 0.0889 - accuracy: 0.9990 - val_loss: 0.1414 - val_accuracy: 0.9691\n",
      "Epoch 15/20\n",
      "33/33 [==============================] - 0s 4ms/step - loss: 0.0872 - accuracy: 0.9993 - val_loss: 0.1423 - val_accuracy: 0.9691\n",
      "Epoch 16/20\n",
      "33/33 [==============================] - 0s 4ms/step - loss: 0.0856 - accuracy: 0.9995 - val_loss: 0.1430 - val_accuracy: 0.9706\n",
      "Epoch 17/20\n",
      "33/33 [==============================] - 0s 4ms/step - loss: 0.0841 - accuracy: 0.9995 - val_loss: 0.1455 - val_accuracy: 0.9706\n",
      "Epoch 18/20\n",
      "33/33 [==============================] - 0s 4ms/step - loss: 0.0827 - accuracy: 0.9998 - val_loss: 0.1477 - val_accuracy: 0.9706\n",
      "Epoch 19/20\n",
      "33/33 [==============================] - 0s 4ms/step - loss: 0.0813 - accuracy: 0.9998 - val_loss: 0.1492 - val_accuracy: 0.9706\n",
      "Epoch 20/20\n",
      "33/33 [==============================] - 0s 4ms/step - loss: 0.0800 - accuracy: 1.0000 - val_loss: 0.1501 - val_accuracy: 0.9706\n",
      "44/44 [==============================] - 0s 750us/step - loss: 0.1501 - accuracy: 0.9706\n"
     ]
    },
    {
     "data": {
      "text/plain": [
       "[0.15012843906879425, 0.9705671072006226]"
      ]
     },
     "execution_count": 25,
     "metadata": {},
     "output_type": "execute_result"
    }
   ],
   "source": [
    "model.fit(x_train_trans,y_train,epochs=20,batch_size=128,validation_data=[x_test_trans,y_test])\n",
    "model.evaluate(x_test_trans,y_test)"
   ]
  },
  {
   "cell_type": "code",
   "execution_count": null,
   "id": "3281ab2a",
   "metadata": {},
   "outputs": [],
   "source": []
  },
  {
   "cell_type": "code",
   "execution_count": 26,
   "id": "fbdc5f59",
   "metadata": {},
   "outputs": [
    {
     "name": "stdout",
     "output_type": "stream",
     "text": [
      "(1393,)\n"
     ]
    },
    {
     "data": {
      "text/plain": [
       "array([0., 0., 0., ..., 0., 0., 1.], dtype=float32)"
      ]
     },
     "execution_count": 26,
     "metadata": {},
     "output_type": "execute_result"
    }
   ],
   "source": [
    "y_mlp_pred = np.round(model.predict(x_test_trans,batch_size=128,verbose=0),0)\n",
    "print(y_test.shape)\n",
    "y_mlp_pred[:,0]"
   ]
  },
  {
   "cell_type": "code",
   "execution_count": 27,
   "id": "9ad8463e",
   "metadata": {},
   "outputs": [
    {
     "name": "stdout",
     "output_type": "stream",
     "text": [
      "MLP Model\n"
     ]
    },
    {
     "data": {
      "text/plain": [
       "<sklearn.metrics._plot.confusion_matrix.ConfusionMatrixDisplay at 0x7f3bbc724d90>"
      ]
     },
     "execution_count": 27,
     "metadata": {},
     "output_type": "execute_result"
    },
    {
     "data": {
      "image/png": "[encoded data removed]",
      "text/plain": [
       "<Figure size 432x288 with 2 Axes>"
      ]
     },
     "metadata": {
      "needs_background": "light"
     },
     "output_type": "display_data"
    }
   ],
   "source": [
    "print(\"MLP Model\")\n",
    "ConfusionMatrixDisplay(confusion_matrix(y_test,y_mlp_pred),display_labels=['Ham','Spam']).plot()"
   ]
  },
  {
   "cell_type": "markdown",
   "id": "d6ba5c18",
   "metadata": {},
   "source": [
    "## Conclusion: \n",
    "\n",
    "#### MLP Model performs better at classifying all spams messages as spam and classifying minimum not spam messages as spam\n",
    "\n",
    "\n",
    "#### So MLP is Used for full dataset Training"
   ]
  },
  {
   "cell_type": "code",
   "execution_count": 28,
   "id": "6c70ec9f",
   "metadata": {},
   "outputs": [],
   "source": [
    "new_x = np.concatenate([x_train_trans,x_test_trans])\n",
    "new_y = np.concatenate([y_train,y_test])"
   ]
  },
  {
   "cell_type": "code",
   "execution_count": 29,
   "id": "197a9599",
   "metadata": {},
   "outputs": [
    {
     "name": "stdout",
     "output_type": "stream",
     "text": [
      "Model: \"sequential_1\"\n",
      "_________________________________________________________________\n",
      " Layer (type)                Output Shape              Param #   \n",
      "=================================================================\n",
      " dense_3 (Dense)             (None, 64)                465024    \n",
      "                                                                 \n",
      " dense_4 (Dense)             (None, 64)                4160      \n",
      "                                                                 \n",
      " dense_5 (Dense)             (None, 1)                 65        \n",
      "                                                                 \n",
      "=================================================================\n",
      "Total params: 469,249\n",
      "Trainable params: 469,249\n",
      "Non-trainable params: 0\n",
      "_________________________________________________________________\n"
     ]
    }
   ],
   "source": [
    "model = Sequential()\n",
    "model.add(Dense(64,activation='relu',input_shape=[x_test_trans.shape[1],],kernel_initializer='uniform'))\n",
    "model.add(Dense(64,activation='relu',kernel_initializer='uniform'))\n",
    "model.add(Dense(1,activation='sigmoid',kernel_initializer='uniform'))\n",
    "model.summary()\n",
    "model.compile(optimizer='adam',loss='binary_crossentropy',metrics=['accuracy'])"
   ]
  },
  {
   "cell_type": "code",
   "execution_count": 30,
   "id": "9d2fd1e0",
   "metadata": {},
   "outputs": [
    {
     "name": "stdout",
     "output_type": "stream",
     "text": [
      "Epoch 1/20\n",
      "44/44 [==============================] - 0s 3ms/step - loss: 0.6193 - accuracy: 0.8658\n",
      "Epoch 2/20\n",
      "44/44 [==============================] - 0s 3ms/step - loss: 0.3166 - accuracy: 0.8659\n",
      "Epoch 3/20\n",
      "44/44 [==============================] - 0s 3ms/step - loss: 0.2010 - accuracy: 0.8659\n",
      "Epoch 4/20\n",
      "44/44 [==============================] - 0s 3ms/step - loss: 0.1438 - accuracy: 0.8659\n",
      "Epoch 5/20\n",
      "44/44 [==============================] - 0s 3ms/step - loss: 0.1171 - accuracy: 0.8659\n",
      "Epoch 6/20\n",
      "44/44 [==============================] - 0s 3ms/step - loss: 0.1073 - accuracy: 0.9058\n",
      "Epoch 7/20\n",
      "44/44 [==============================] - 0s 3ms/step - loss: 0.1013 - accuracy: 0.9908\n",
      "Epoch 8/20\n",
      "44/44 [==============================] - 0s 3ms/step - loss: 0.0971 - accuracy: 0.9937\n",
      "Epoch 9/20\n",
      "44/44 [==============================] - 0s 3ms/step - loss: 0.0938 - accuracy: 0.9952\n",
      "Epoch 10/20\n",
      "44/44 [==============================] - 0s 3ms/step - loss: 0.0910 - accuracy: 0.9969\n",
      "Epoch 11/20\n",
      "44/44 [==============================] - 0s 3ms/step - loss: 0.0886 - accuracy: 0.9982\n",
      "Epoch 12/20\n",
      "44/44 [==============================] - 0s 3ms/step - loss: 0.0865 - accuracy: 0.9991\n",
      "Epoch 13/20\n",
      "44/44 [==============================] - 0s 3ms/step - loss: 0.0845 - accuracy: 0.9993\n",
      "Epoch 14/20\n",
      "44/44 [==============================] - 0s 3ms/step - loss: 0.0826 - accuracy: 0.9993\n",
      "Epoch 15/20\n",
      "44/44 [==============================] - 0s 3ms/step - loss: 0.0807 - accuracy: 0.9993\n",
      "Epoch 16/20\n",
      "44/44 [==============================] - 0s 3ms/step - loss: 0.0789 - accuracy: 0.9995\n",
      "Epoch 17/20\n",
      "44/44 [==============================] - 0s 3ms/step - loss: 0.0772 - accuracy: 0.9995\n",
      "Epoch 18/20\n",
      "44/44 [==============================] - 0s 3ms/step - loss: 0.0755 - accuracy: 0.9995\n",
      "Epoch 19/20\n",
      "44/44 [==============================] - 0s 3ms/step - loss: 0.0738 - accuracy: 0.9996\n",
      "Epoch 20/20\n",
      "44/44 [==============================] - 0s 3ms/step - loss: 0.0721 - accuracy: 0.9996\n"
     ]
    },
    {
     "data": {
      "text/plain": [
       "<keras.callbacks.History at 0x7f3b7c5c4400>"
      ]
     },
     "execution_count": 30,
     "metadata": {},
     "output_type": "execute_result"
    }
   ],
   "source": [
    "model.fit(new_x,new_y,epochs=20,batch_size=128)"
   ]
  },
  {
   "cell_type": "code",
   "execution_count": 35,
   "id": "e12f2dfb",
   "metadata": {},
   "outputs": [],
   "source": [
    "import pickle"
   ]
  },
  {
   "cell_type": "code",
   "execution_count": 36,
   "id": "e3f4657d",
   "metadata": {},
   "outputs": [
    {
     "name": "stdout",
     "output_type": "stream",
     "text": [
      "INFO:tensorflow:Assets written to: ram://32fe0c58-e4e0-4ba2-9a31-04c482e91249/assets\n"
     ]
    }
   ],
   "source": [
    "pickle.dump(model, open('spam_MLP.sav','wb'))\n",
    "pickle.dump(transformer, open('spam_tfidf_vect.sav','wb'))"
   ]
  },
  {
   "cell_type": "code",
   "execution_count": 38,
   "id": "2c5ed4ba",
   "metadata": {
    "scrolled": false
   },
   "outputs": [],
   "source": [
    "# input = \"\"\n",
    "# print(predictions(input))"
   ]
  },
  {
   "cell_type": "code",
   "execution_count": null,
   "id": "814a9c17",
   "metadata": {},
   "outputs": [],
   "source": []
  }
 ],
 "metadata": {
  "kernelspec": {
   "display_name": "Python 3 (ipykernel)",
   "language": "python",
   "name": "python3"
  },
  "language_info": {
   "codemirror_mode": {
    "name": "ipython",
    "version": 3
   },
   "file_extension": ".py",
   "mimetype": "text/x-python",
   "name": "python",
   "nbconvert_exporter": "python",
   "pygments_lexer": "ipython3",
   "version": "3.10.4"
  }
 },
 "nbformat": 4,
 "nbformat_minor": 5
}
