{
 "cells": [
  {
   "cell_type": "markdown",
   "id": "499c8fdc",
   "metadata": {},
   "source": [
    "# Spam-Ham Classifier"
   ]
  },
  {
   "cell_type": "code",
   "execution_count": null,
   "id": "8a23b42b",
   "metadata": {},
   "outputs": [],
   "source": []
  },
  {
   "cell_type": "code",
   "execution_count": 1,
   "id": "1d6af86b",
   "metadata": {},
   "outputs": [],
   "source": [
    "import pandas as pd\n",
    "import numpy as np\n",
    "import matplotlib.pyplot as plt"
   ]
  },
  {
   "cell_type": "code",
   "execution_count": 2,
   "id": "9a37c417",
   "metadata": {},
   "outputs": [
    {
     "name": "stdout",
     "output_type": "stream",
     "text": [
      "Free entry in 2 a wkly comp to win FA Cup final tkts 21st May 2005. Text FA to 87121 to receive entry question(std txt rate)T&C's apply 08452810075over18's\n"
     ]
    },
    {
     "data": {
      "text/plain": [
       "'spam'"
      ]
     },
     "execution_count": 2,
     "metadata": {},
     "output_type": "execute_result"
    }
   ],
   "source": [
    "df = pd.read_csv('SMSSpamCollection',delimiter='\\t',header=None)"
   ]
  },
  {
   "cell_type": "code",
   "execution_count": 3,
   "id": "22285de7",
   "metadata": {},
   "outputs": [
    {
     "data": {
      "text/plain": [
       "ham     4825\n",
       "spam     747\n",
       "Name: 0, dtype: int64"
      ]
     },
     "execution_count": 3,
     "metadata": {},
     "output_type": "execute_result"
    }
   ],
   "source": [
    "df[0].value_counts()"
   ]
  },
  {
   "cell_type": "code",
   "execution_count": 4,
   "id": "4a4fcb39",
   "metadata": {},
   "outputs": [
    {
     "data": {
      "text/plain": [
       "0    0\n",
       "1    0\n",
       "dtype: int64"
      ]
     },
     "execution_count": 4,
     "metadata": {},
     "output_type": "execute_result"
    }
   ],
   "source": [
    "df.isna().sum()"
   ]
  },
  {
   "cell_type": "code",
   "execution_count": 5,
   "id": "58ab49bc",
   "metadata": {
    "scrolled": true
   },
   "outputs": [
    {
     "name": "stdout",
     "output_type": "stream",
     "text": [
      "<class 'pandas.core.frame.DataFrame'>\n",
      "RangeIndex: 5572 entries, 0 to 5571\n",
      "Data columns (total 2 columns):\n",
      " #   Column  Non-Null Count  Dtype \n",
      "---  ------  --------------  ----- \n",
      " 0   0       5572 non-null   object\n",
      " 1   1       5572 non-null   object\n",
      "dtypes: object(2)\n",
      "memory usage: 87.2+ KB\n"
     ]
    }
   ],
   "source": [
    "df.info()"
   ]
  },
  {
   "cell_type": "markdown",
   "id": "494d0b04",
   "metadata": {},
   "source": [
    "### Tranforming Text Data"
   ]
  },
  {
   "cell_type": "code",
   "execution_count": 6,
   "id": "db9461a5",
   "metadata": {},
   "outputs": [],
   "source": [
    "from sklearn.feature_extraction.text import TfidfVectorizer\n",
    "from sklearn.model_selection import GridSearchCV,cross_val_score,train_test_split\n",
    "x = df[1]\n",
    "y = df[0]"
   ]
  },
  {
   "cell_type": "code",
   "execution_count": 7,
   "id": "5eab5259",
   "metadata": {},
   "outputs": [
    {
     "name": "stdout",
     "output_type": "stream",
     "text": [
      "(4179,)\n",
      "(1393,)\n",
      "(4179,)\n",
      "209     You please give us connection today itself bef...\n",
      "3057                             Webpage s not available!\n",
      "5201    YOU VE WON! Your 4* Costa Del Sol Holiday or £...\n",
      "3761                       We'll join the  &lt;#&gt;  bus\n",
      "1136                      K do I need a login or anything\n",
      "                              ...                        \n",
      "826            Hmm .. Bits and pieces lol ... *sighs* ...\n",
      "3735                    4 tacos + 1 rajas burrito, right?\n",
      "2942    My supervisor find 4 me one lor i thk his stud...\n",
      "2064    URGENT! Your mobile No *********** WON a £2,00...\n",
      "4818    Me too. Mark is taking forever to pick up my p...\n",
      "Name: 1, Length: 4179, dtype: object\n"
     ]
    }
   ],
   "source": [
    "x_train,x_test,y_train,y_test = train_test_split(x,y,random_state=31)\n",
    "print(x_train.shape)\n",
    "print(x_test.shape)\n",
    "print(y_train.shape)\n",
    "print(x_train)"
   ]
  },
  {
   "cell_type": "code",
   "execution_count": 8,
   "id": "94dc6737",
   "metadata": {},
   "outputs": [],
   "source": [
    "transformer = TfidfVectorizer(lowercase=True,ngram_range=(1,1),norm='l1',strip_accents='ascii',stop_words='english')"
   ]
  },
  {
   "cell_type": "code",
   "execution_count": 9,
   "id": "73b81971",
   "metadata": {},
   "outputs": [],
   "source": [
    "x_train_trans = transformer.fit_transform(x_train).toarray()\n",
    "x_test_trans = transformer.transform(x_test).toarray()"
   ]
  },
  {
   "cell_type": "code",
   "execution_count": 10,
   "id": "7e31dcd8",
   "metadata": {},
   "outputs": [
    {
     "name": "stdout",
     "output_type": "stream",
     "text": [
      "(4179, 7265)\n"
     ]
    }
   ],
   "source": [
    "print(x_train_trans.shape)"
   ]
  },
  {
   "cell_type": "code",
   "execution_count": 11,
   "id": "8eac4b62",
   "metadata": {},
   "outputs": [
    {
     "name": "stderr",
     "output_type": "stream",
     "text": [
      "2022-07-05 01:59:04.503896: W tensorflow/stream_executor/platform/default/dso_loader.cc:64] Could not load dynamic library 'libcudart.so.11.0'; dlerror: libcudart.so.11.0: cannot open shared object file: No such file or directory\n",
      "2022-07-05 01:59:04.503913: I tensorflow/stream_executor/cuda/cudart_stub.cc:29] Ignore above cudart dlerror if you do not have a GPU set up on your machine.\n"
     ]
    }
   ],
   "source": [
    "from sklearn.linear_model import LogisticRegression\n",
    "from sklearn.tree import DecisionTreeClassifier\n",
    "from sklearn.ensemble import RandomForestClassifier,AdaBoostClassifier\n",
    "from sklearn.neighbors import KNeighborsClassifier\n",
    "from keras.models import Sequential\n",
    "from keras.layers import Dense\n",
    "from sklearn.metrics import accuracy_score"
   ]
  },
  {
   "cell_type": "code",
   "execution_count": 12,
   "id": "c9931da7",
   "metadata": {},
   "outputs": [],
   "source": [
    "def transform(y_val):\n",
    "    y_new = [1.0 if i=='spam' else 0.0 for i in y_val]\n",
    "    return y_new"
   ]
  },
  {
   "cell_type": "code",
   "execution_count": 13,
   "id": "8dd606c5",
   "metadata": {},
   "outputs": [
    {
     "name": "stdout",
     "output_type": "stream",
     "text": [
      "(4179,)\n"
     ]
    }
   ],
   "source": [
    "y_train = np.array(transform(y_train))\n",
    "y_test = np.array(transform(y_test))\n",
    "print(y_train.shape)"
   ]
  },
  {
   "cell_type": "markdown",
   "id": "2afd9cd0",
   "metadata": {},
   "source": [
    "## Model Training:"
   ]
  },
  {
   "cell_type": "code",
   "execution_count": 14,
   "id": "92256cb1",
   "metadata": {},
   "outputs": [
    {
     "name": "stderr",
     "output_type": "stream",
     "text": [
      "2022-07-05 01:59:06.658225: E tensorflow/stream_executor/cuda/cuda_driver.cc:271] failed call to cuInit: CUDA_ERROR_NO_DEVICE: no CUDA-capable device is detected\n",
      "2022-07-05 01:59:06.658246: I tensorflow/stream_executor/cuda/cuda_diagnostics.cc:156] kernel driver does not appear to be running on this host (mehathab-MSI): /proc/driver/nvidia/version does not exist\n",
      "2022-07-05 01:59:06.658524: I tensorflow/core/platform/cpu_feature_guard.cc:193] This TensorFlow binary is optimized with oneAPI Deep Neural Network Library (oneDNN) to use the following CPU instructions in performance-critical operations:  AVX2 FMA\n",
      "To enable them in other operations, rebuild TensorFlow with the appropriate compiler flags.\n"
     ]
    }
   ],
   "source": [
    "model = Sequential()\n",
    "model.add(Dense(64,activation='relu',input_shape=[x_test_trans.shape[1],],kernel_initializer='uniform'))\n",
    "model.add(Dense(64,activation='relu',kernel_initializer='uniform'))\n",
    "model.add(Dense(1,activation='sigmoid',kernel_initializer='uniform'))\n",
    "model.compile(optimizer='adam',loss='binary_crossentropy',metrics=['accuracy'])"
   ]
  },
  {
   "cell_type": "code",
   "execution_count": 15,
   "id": "333574f8",
   "metadata": {},
   "outputs": [
    {
     "name": "stdout",
     "output_type": "stream",
     "text": [
      "Epoch 1/20\n",
      "33/33 [==============================] - 0s 3ms/step - loss: 0.6698 - accuracy: 0.8521\n",
      "Epoch 2/20\n",
      "33/33 [==============================] - 0s 3ms/step - loss: 0.4787 - accuracy: 0.8662\n",
      "Epoch 3/20\n",
      "33/33 [==============================] - 0s 3ms/step - loss: 0.2888 - accuracy: 0.8662\n",
      "Epoch 4/20\n",
      "33/33 [==============================] - 0s 3ms/step - loss: 0.2157 - accuracy: 0.8662\n",
      "Epoch 5/20\n",
      "33/33 [==============================] - 0s 3ms/step - loss: 0.1628 - accuracy: 0.8662\n",
      "Epoch 6/20\n",
      "33/33 [==============================] - 0s 3ms/step - loss: 0.1344 - accuracy: 0.8662\n",
      "Epoch 7/20\n",
      "33/33 [==============================] - 0s 3ms/step - loss: 0.1167 - accuracy: 0.8662\n",
      "Epoch 8/20\n",
      "33/33 [==============================] - 0s 4ms/step - loss: 0.1084 - accuracy: 0.8662\n",
      "Epoch 9/20\n",
      "33/33 [==============================] - 0s 3ms/step - loss: 0.1035 - accuracy: 0.8966\n",
      "Epoch 10/20\n",
      "33/33 [==============================] - 0s 3ms/step - loss: 0.0998 - accuracy: 0.9923\n",
      "Epoch 11/20\n",
      "33/33 [==============================] - 0s 3ms/step - loss: 0.0969 - accuracy: 0.9931\n",
      "Epoch 12/20\n",
      "33/33 [==============================] - 0s 3ms/step - loss: 0.0945 - accuracy: 0.9957\n",
      "Epoch 13/20\n",
      "33/33 [==============================] - 0s 3ms/step - loss: 0.0924 - accuracy: 0.9966\n",
      "Epoch 14/20\n",
      "33/33 [==============================] - 0s 3ms/step - loss: 0.0906 - accuracy: 0.9976\n",
      "Epoch 15/20\n",
      "33/33 [==============================] - 0s 3ms/step - loss: 0.0890 - accuracy: 0.9981\n",
      "Epoch 16/20\n",
      "33/33 [==============================] - 0s 3ms/step - loss: 0.0874 - accuracy: 0.9986\n",
      "Epoch 17/20\n",
      "33/33 [==============================] - 0s 3ms/step - loss: 0.0860 - accuracy: 0.9988\n",
      "Epoch 18/20\n",
      "33/33 [==============================] - 0s 3ms/step - loss: 0.0846 - accuracy: 0.9988\n",
      "Epoch 19/20\n",
      "33/33 [==============================] - 0s 3ms/step - loss: 0.0832 - accuracy: 0.9988\n",
      "Epoch 20/20\n",
      "33/33 [==============================] - 0s 3ms/step - loss: 0.0819 - accuracy: 0.9990\n",
      "44/44 [==============================] - 0s 783us/step - loss: 0.1404 - accuracy: 0.9720\n"
     ]
    },
    {
     "data": {
      "text/plain": [
       "[0.1404390037059784, 0.9720028638839722]"
      ]
     },
     "execution_count": 15,
     "metadata": {},
     "output_type": "execute_result"
    }
   ],
   "source": [
    "model.fit(x_train_trans,y_train,epochs=20,batch_size=128)\n",
    "model.evaluate(x_test_trans,y_test)"
   ]
  },
  {
   "cell_type": "code",
   "execution_count": 16,
   "id": "3281ab2a",
   "metadata": {},
   "outputs": [],
   "source": [
    "from sklearn.metrics import ConfusionMatrixDisplay,confusion_matrix,classification_report"
   ]
  },
  {
   "cell_type": "code",
   "execution_count": 17,
   "id": "fbdc5f59",
   "metadata": {},
   "outputs": [
    {
     "name": "stdout",
     "output_type": "stream",
     "text": [
      "(1393,)\n"
     ]
    },
    {
     "data": {
      "text/plain": [
       "(1393, 1)"
      ]
     },
     "execution_count": 17,
     "metadata": {},
     "output_type": "execute_result"
    }
   ],
   "source": [
    "y_mlp_pred = np.round(model.predict(x_test_trans,batch_size=128,verbose=0),0)\n",
    "print(y_test.shape)\n",
    "y_mlp_pred.shape"
   ]
  },
  {
   "cell_type": "code",
   "execution_count": 18,
   "id": "9ad8463e",
   "metadata": {},
   "outputs": [
    {
     "name": "stdout",
     "output_type": "stream",
     "text": [
      "MLP Model\n"
     ]
    },
    {
     "data": {
      "text/plain": [
       "<sklearn.metrics._plot.confusion_matrix.ConfusionMatrixDisplay at 0x7f15e46f37f0>"
      ]
     },
     "execution_count": 18,
     "metadata": {},
     "output_type": "execute_result"
    },
    {
     "data": {
      "image/png": "[encoded data removed]",
      "text/plain": [
       "<Figure size 432x288 with 2 Axes>"
      ]
     },
     "metadata": {
      "needs_background": "light"
     },
     "output_type": "display_data"
    }
   ],
   "source": [
    "print(\"MLP Model\")\n",
    "ConfusionMatrixDisplay(confusion_matrix(y_test,y_mlp_pred),display_labels=['Ham','Spam']).plot()"
   ]
  },
  {
   "cell_type": "code",
   "execution_count": 19,
   "id": "f70572e7",
   "metadata": {},
   "outputs": [
    {
     "data": {
      "text/plain": [
       "array([0., 1.])"
      ]
     },
     "execution_count": 19,
     "metadata": {},
     "output_type": "execute_result"
    }
   ],
   "source": [
    "np.unique(y_test)"
   ]
  },
  {
   "cell_type": "code",
   "execution_count": 20,
   "id": "6f579f5e",
   "metadata": {},
   "outputs": [
    {
     "name": "stdout",
     "output_type": "stream",
     "text": [
      "(5572, 8453)\n",
      "(5572,)\n"
     ]
    }
   ],
   "source": [
    "vectorizer = TfidfVectorizer(lowercase=True,ngram_range=(1,1),norm='l1',strip_accents='ascii',stop_words='english')\n",
    "new_x = vectorizer.fit_transform(x).toarray()\n",
    "new_y = np.array(transform(y))\n",
    "print(new_x.shape)\n",
    "print(new_y.shape)"
   ]
  },
  {
   "cell_type": "code",
   "execution_count": 26,
   "id": "5ea7a0c3",
   "metadata": {},
   "outputs": [],
   "source": [
    "new_model = Sequential()\n",
    "new_model.add(Dense(64,activation='relu',input_shape=[new_x.shape[1],],kernel_initializer='uniform'))\n",
    "new_model.add(Dense(64,activation='relu',kernel_initializer='uniform'))\n",
    "new_model.add(Dense(1,activation='sigmoid',kernel_initializer='uniform'))\n",
    "new_model.compile(optimizer='adam',loss='binary_crossentropy',metrics=['accuracy'])"
   ]
  },
  {
   "cell_type": "code",
   "execution_count": 27,
   "id": "c7b43933",
   "metadata": {},
   "outputs": [
    {
     "name": "stdout",
     "output_type": "stream",
     "text": [
      "Epoch 1/20\n",
      "44/44 [==============================] - 0s 3ms/step - loss: 0.6329 - accuracy: 0.8591\n",
      "Epoch 2/20\n",
      "44/44 [==============================] - 0s 3ms/step - loss: 0.3350 - accuracy: 0.8659\n",
      "Epoch 3/20\n",
      "44/44 [==============================] - 0s 3ms/step - loss: 0.2120 - accuracy: 0.8659\n",
      "Epoch 4/20\n",
      "44/44 [==============================] - 0s 3ms/step - loss: 0.1488 - accuracy: 0.8659\n",
      "Epoch 5/20\n",
      "44/44 [==============================] - 0s 3ms/step - loss: 0.1192 - accuracy: 0.8659\n",
      "Epoch 6/20\n",
      "44/44 [==============================] - 0s 3ms/step - loss: 0.1078 - accuracy: 0.8708\n",
      "Epoch 7/20\n",
      "44/44 [==============================] - 0s 3ms/step - loss: 0.1016 - accuracy: 0.9894\n",
      "Epoch 8/20\n",
      "44/44 [==============================] - 0s 3ms/step - loss: 0.0972 - accuracy: 0.9932\n",
      "Epoch 9/20\n",
      "44/44 [==============================] - 0s 3ms/step - loss: 0.0939 - accuracy: 0.9952\n",
      "Epoch 10/20\n",
      "44/44 [==============================] - 0s 3ms/step - loss: 0.0911 - accuracy: 0.9975\n",
      "Epoch 11/20\n",
      "44/44 [==============================] - 0s 3ms/step - loss: 0.0888 - accuracy: 0.9987\n",
      "Epoch 12/20\n",
      "44/44 [==============================] - 0s 3ms/step - loss: 0.0867 - accuracy: 0.9993\n",
      "Epoch 13/20\n",
      "44/44 [==============================] - 0s 3ms/step - loss: 0.0847 - accuracy: 0.9995\n",
      "Epoch 14/20\n",
      "44/44 [==============================] - 0s 3ms/step - loss: 0.0828 - accuracy: 0.9995\n",
      "Epoch 15/20\n",
      "44/44 [==============================] - 0s 3ms/step - loss: 0.0809 - accuracy: 0.9995\n",
      "Epoch 16/20\n",
      "44/44 [==============================] - 0s 3ms/step - loss: 0.0791 - accuracy: 0.9995\n",
      "Epoch 17/20\n",
      "44/44 [==============================] - 0s 3ms/step - loss: 0.0774 - accuracy: 0.9996\n",
      "Epoch 18/20\n",
      "44/44 [==============================] - 0s 3ms/step - loss: 0.0755 - accuracy: 0.9996\n",
      "Epoch 19/20\n",
      "44/44 [==============================] - 0s 3ms/step - loss: 0.0738 - accuracy: 0.9998\n",
      "Epoch 20/20\n",
      "44/44 [==============================] - 0s 3ms/step - loss: 0.0721 - accuracy: 0.9998\n"
     ]
    },
    {
     "data": {
      "text/plain": [
       "<keras.callbacks.History at 0x7f15cc5a2350>"
      ]
     },
     "execution_count": 27,
     "metadata": {},
     "output_type": "execute_result"
    }
   ],
   "source": [
    "new_model.fit(new_x,new_y,epochs=20,batch_size=128)"
   ]
  },
  {
   "cell_type": "code",
   "execution_count": 28,
   "id": "e755bf1b",
   "metadata": {},
   "outputs": [],
   "source": [
    "model_json = model.to_json()"
   ]
  },
  {
   "cell_type": "code",
   "execution_count": 29,
   "id": "08743183",
   "metadata": {},
   "outputs": [],
   "source": [
    "with open('spam_ham_model_MLP.json','w') as json_file:\n",
    "    json_file.write(model_json)"
   ]
  },
  {
   "cell_type": "code",
   "execution_count": 30,
   "id": "f4abc636",
   "metadata": {
    "scrolled": true
   },
   "outputs": [
    {
     "name": "stdout",
     "output_type": "stream",
     "text": [
      "Model Saved to Disk\n"
     ]
    }
   ],
   "source": [
    "model.save_weights(\"spam_ham_model_MLP.h5\")\n",
    "print(\"Model Saved to Disk\")"
   ]
  },
  {
   "cell_type": "code",
   "execution_count": 31,
   "id": "8c7294bb",
   "metadata": {},
   "outputs": [],
   "source": [
    "from sklearn.pipeline import Pipeline\n",
    "from keras.models import model_from_json\n",
    "import numpy as np\n",
    "import os\n",
    "import warnings\n",
    "warnings.filterwarnings('ignore')"
   ]
  },
  {
   "cell_type": "code",
   "execution_count": 32,
   "id": "cf5f8824",
   "metadata": {},
   "outputs": [],
   "source": [
    "import pickle"
   ]
  },
  {
   "cell_type": "code",
   "execution_count": 33,
   "id": "daf05c33",
   "metadata": {},
   "outputs": [
    {
     "name": "stdout",
     "output_type": "stream",
     "text": [
      "INFO:tensorflow:Assets written to: ram://09dc0227-7092-4da7-9320-eb83ddd47e5f/assets\n"
     ]
    }
   ],
   "source": [
    "pickle.dump(model, open('spam_MLP.sav','wb'))\n",
    "pickle.dump(transformer, open('spam_tfidf_vect.sav','wb'))"
   ]
  },
  {
   "cell_type": "code",
   "execution_count": 47,
   "id": "e4365ee8",
   "metadata": {},
   "outputs": [],
   "source": [
    "def predictions(text):\n",
    "    vectorizer = pickle.load(open('spam_tfidf_vect.sav','rb'))\n",
    "    transformed_text = vectorizer.transform([text]).toarray()\n",
    "    model = pickle.load(open('spam_MLP.sav','rb'))    \n",
    "    y_predict = np.round(model.predict(transformed_text),0)\n",
    "    result = 'spam' if y_predict[0][0]==1 else 'ham'\n",
    "    return result"
   ]
  },
  {
   "cell_type": "code",
   "execution_count": 48,
   "id": "5ceec0da",
   "metadata": {
    "scrolled": true
   },
   "outputs": [
    {
     "name": "stdout",
     "output_type": "stream",
     "text": [
      "1/1 [==============================] - 0s 27ms/step\n",
      "spam\n"
     ]
    }
   ],
   "source": [
    "# input = \"Free entry in 2 a wkly comp to win FA Cup final tkts 21st May 2005. Text FA to 87121 to receive entry question(std txt rate)T&C's apply 08452810075over18's\"\n",
    "# print(predictions(input))"
   ]
  },
  {
   "cell_type": "code",
   "execution_count": null,
   "id": "6ee59c34",
   "metadata": {},
   "outputs": [],
   "source": []
  }
 ],
 "metadata": {
  "kernelspec": {
   "display_name": "Python 3 (ipykernel)",
   "language": "python",
   "name": "python3"
  },
  "language_info": {
   "codemirror_mode": {
    "name": "ipython",
    "version": 3
   },
   "file_extension": ".py",
   "mimetype": "text/x-python",
   "name": "python",
   "nbconvert_exporter": "python",
   "pygments_lexer": "ipython3",
   "version": "3.10.4"
  }
 },
 "nbformat": 4,
 "nbformat_minor": 5
}
