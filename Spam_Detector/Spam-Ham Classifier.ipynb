{
 "cells": [
  {
   "cell_type": "markdown",
   "id": "499c8fdc",
   "metadata": {},
   "source": [
    "# Spam-Ham Classifier"
   ]
  },
  {
   "cell_type": "code",
   "execution_count": null,
   "id": "8a23b42b",
   "metadata": {},
   "outputs": [],
   "source": []
  },
  {
   "cell_type": "code",
   "execution_count": 1,
   "id": "1d6af86b",
   "metadata": {},
   "outputs": [],
   "source": [
    "import pandas as pd\n",
    "import numpy as np\n",
    "import matplotlib.pyplot as plt"
   ]
  },
  {
   "cell_type": "code",
   "execution_count": 2,
   "id": "9a37c417",
   "metadata": {},
   "outputs": [
    {
     "name": "stdout",
     "output_type": "stream",
     "text": [
      "Free entry in 2 a wkly comp to win FA Cup final tkts 21st May 2005. Text FA to 87121 to receive entry question(std txt rate)T&C's apply 08452810075over18's\n"
     ]
    },
    {
     "data": {
      "text/plain": [
       "'spam'"
      ]
     },
     "execution_count": 2,
     "metadata": {},
     "output_type": "execute_result"
    }
   ],
   "source": [
    "df = pd.read_csv('../SMSSpamCollection',delimiter='\\t',header=None)\n",
    "print(df[1][2])\n",
    "df[0][2]"
   ]
  },
  {
   "cell_type": "code",
   "execution_count": 3,
   "id": "22285de7",
   "metadata": {},
   "outputs": [
    {
     "data": {
      "text/plain": [
       "ham     4825\n",
       "spam     747\n",
       "Name: 0, dtype: int64"
      ]
     },
     "execution_count": 3,
     "metadata": {},
     "output_type": "execute_result"
    }
   ],
   "source": [
    "df[0].value_counts()"
   ]
  },
  {
   "cell_type": "code",
   "execution_count": 4,
   "id": "4a4fcb39",
   "metadata": {},
   "outputs": [
    {
     "data": {
      "text/plain": [
       "0    0\n",
       "1    0\n",
       "dtype: int64"
      ]
     },
     "execution_count": 4,
     "metadata": {},
     "output_type": "execute_result"
    }
   ],
   "source": [
    "df.isna().sum()"
   ]
  },
  {
   "cell_type": "code",
   "execution_count": 5,
   "id": "58ab49bc",
   "metadata": {
    "scrolled": true
   },
   "outputs": [
    {
     "name": "stdout",
     "output_type": "stream",
     "text": [
      "<class 'pandas.core.frame.DataFrame'>\n",
      "RangeIndex: 5572 entries, 0 to 5571\n",
      "Data columns (total 2 columns):\n",
      " #   Column  Non-Null Count  Dtype \n",
      "---  ------  --------------  ----- \n",
      " 0   0       5572 non-null   object\n",
      " 1   1       5572 non-null   object\n",
      "dtypes: object(2)\n",
      "memory usage: 87.2+ KB\n"
     ]
    }
   ],
   "source": [
    "df.info()"
   ]
  },
  {
   "cell_type": "markdown",
   "id": "494d0b04",
   "metadata": {},
   "source": [
    "### Tranforming Text Data"
   ]
  },
  {
   "cell_type": "code",
   "execution_count": 6,
   "id": "db9461a5",
   "metadata": {},
   "outputs": [],
   "source": [
    "from sklearn.feature_extraction.text import TfidfVectorizer\n",
    "from sklearn.model_selection import GridSearchCV,cross_val_score,train_test_split\n",
    "x = df[1]\n",
    "y = df[0]"
   ]
  },
  {
   "cell_type": "code",
   "execution_count": 7,
   "id": "5eab5259",
   "metadata": {},
   "outputs": [
    {
     "name": "stdout",
     "output_type": "stream",
     "text": [
      "(4179,)\n",
      "(1393,)\n",
      "(4179,)\n",
      "209     You please give us connection today itself bef...\n",
      "3057                             Webpage s not available!\n",
      "5201    YOU VE WON! Your 4* Costa Del Sol Holiday or £...\n",
      "3761                       We'll join the  &lt;#&gt;  bus\n",
      "1136                      K do I need a login or anything\n",
      "                              ...                        \n",
      "826            Hmm .. Bits and pieces lol ... *sighs* ...\n",
      "3735                    4 tacos + 1 rajas burrito, right?\n",
      "2942    My supervisor find 4 me one lor i thk his stud...\n",
      "2064    URGENT! Your mobile No *********** WON a £2,00...\n",
      "4818    Me too. Mark is taking forever to pick up my p...\n",
      "Name: 1, Length: 4179, dtype: object\n"
     ]
    }
   ],
   "source": [
    "x_train,x_test,y_train,y_test = train_test_split(x,y,random_state=31)\n",
    "print(x_train.shape)\n",
    "print(x_test.shape)\n",
    "print(y_train.shape)\n",
    "print(x_train)"
   ]
  },
  {
   "cell_type": "code",
   "execution_count": 8,
   "id": "94dc6737",
   "metadata": {},
   "outputs": [],
   "source": [
    "transformer = TfidfVectorizer(lowercase=True,ngram_range=(1,1),norm='l1',strip_accents='ascii',stop_words='english')"
   ]
  },
  {
   "cell_type": "code",
   "execution_count": 9,
   "id": "73b81971",
   "metadata": {},
   "outputs": [],
   "source": [
    "x_train_trans = transformer.fit_transform(x_train).toarray()\n",
    "x_test_trans = transformer.transform(x_test).toarray()"
   ]
  },
  {
   "cell_type": "code",
   "execution_count": 10,
   "id": "7e31dcd8",
   "metadata": {},
   "outputs": [
    {
     "name": "stdout",
     "output_type": "stream",
     "text": [
      "(4179, 7265)\n"
     ]
    }
   ],
   "source": [
    "print(x_train_trans.shape)"
   ]
  },
  {
   "cell_type": "code",
   "execution_count": 11,
   "id": "8eac4b62",
   "metadata": {},
   "outputs": [
    {
     "name": "stderr",
     "output_type": "stream",
     "text": [
      "2022-07-05 00:38:40.678144: W tensorflow/stream_executor/platform/default/dso_loader.cc:64] Could not load dynamic library 'libcudart.so.11.0'; dlerror: libcudart.so.11.0: cannot open shared object file: No such file or directory\n",
      "2022-07-05 00:38:40.678161: I tensorflow/stream_executor/cuda/cudart_stub.cc:29] Ignore above cudart dlerror if you do not have a GPU set up on your machine.\n"
     ]
    }
   ],
   "source": [
    "from sklearn.linear_model import LogisticRegression\n",
    "from sklearn.tree import DecisionTreeClassifier\n",
    "from sklearn.ensemble import RandomForestClassifier,AdaBoostClassifier\n",
    "from sklearn.neighbors import KNeighborsClassifier\n",
    "from keras.models import Sequential\n",
    "from keras.layers import Dense\n",
    "from sklearn.metrics import accuracy_score"
   ]
  },
  {
   "cell_type": "code",
   "execution_count": 12,
   "id": "c9931da7",
   "metadata": {},
   "outputs": [],
   "source": [
    "def transform(y_val):\n",
    "    y_new = [1.0 if i=='spam' else 0.0 for i in y_val]\n",
    "    return y_new"
   ]
  },
  {
   "cell_type": "code",
   "execution_count": 13,
   "id": "8dd606c5",
   "metadata": {},
   "outputs": [
    {
     "name": "stdout",
     "output_type": "stream",
     "text": [
      "(4179,)\n"
     ]
    }
   ],
   "source": [
    "y_train = np.array(transform(y_train))\n",
    "y_test = np.array(transform(y_test))\n",
    "print(y_train.shape)"
   ]
  },
  {
   "cell_type": "markdown",
   "id": "2afd9cd0",
   "metadata": {},
   "source": [
    "## Model Training:"
   ]
  },
  {
   "cell_type": "code",
   "execution_count": 14,
   "id": "92256cb1",
   "metadata": {},
   "outputs": [
    {
     "name": "stderr",
     "output_type": "stream",
     "text": [
      "2022-07-05 00:38:42.817112: E tensorflow/stream_executor/cuda/cuda_driver.cc:271] failed call to cuInit: CUDA_ERROR_NO_DEVICE: no CUDA-capable device is detected\n",
      "2022-07-05 00:38:42.817184: I tensorflow/stream_executor/cuda/cuda_diagnostics.cc:156] kernel driver does not appear to be running on this host (mehathab-MSI): /proc/driver/nvidia/version does not exist\n",
      "2022-07-05 00:38:42.817634: I tensorflow/core/platform/cpu_feature_guard.cc:193] This TensorFlow binary is optimized with oneAPI Deep Neural Network Library (oneDNN) to use the following CPU instructions in performance-critical operations:  AVX2 FMA\n",
      "To enable them in other operations, rebuild TensorFlow with the appropriate compiler flags.\n"
     ]
    }
   ],
   "source": [
    "model = Sequential()\n",
    "model.add(Dense(64,activation='relu',input_shape=[x_test_trans.shape[1],],kernel_initializer='uniform'))\n",
    "model.add(Dense(64,activation='relu',kernel_initializer='uniform'))\n",
    "model.add(Dense(1,activation='sigmoid',kernel_initializer='uniform'))\n",
    "model.compile(optimizer='adam',loss='binary_crossentropy',metrics=['accuracy'])"
   ]
  },
  {
   "cell_type": "code",
   "execution_count": 15,
   "id": "333574f8",
   "metadata": {},
   "outputs": [
    {
     "name": "stdout",
     "output_type": "stream",
     "text": [
      "Epoch 1/20\n",
      "33/33 [==============================] - 0s 3ms/step - loss: 0.6636 - accuracy: 0.8571\n",
      "Epoch 2/20\n",
      "33/33 [==============================] - 0s 3ms/step - loss: 0.4436 - accuracy: 0.8662\n",
      "Epoch 3/20\n",
      "33/33 [==============================] - 0s 3ms/step - loss: 0.2721 - accuracy: 0.8662\n",
      "Epoch 4/20\n",
      "33/33 [==============================] - 0s 3ms/step - loss: 0.1950 - accuracy: 0.8662\n",
      "Epoch 5/20\n",
      "33/33 [==============================] - 0s 3ms/step - loss: 0.1488 - accuracy: 0.8662\n",
      "Epoch 6/20\n",
      "33/33 [==============================] - 0s 3ms/step - loss: 0.1231 - accuracy: 0.8662\n",
      "Epoch 7/20\n",
      "33/33 [==============================] - 0s 3ms/step - loss: 0.1098 - accuracy: 0.8662\n",
      "Epoch 8/20\n",
      "33/33 [==============================] - 0s 3ms/step - loss: 0.1038 - accuracy: 0.8662\n",
      "Epoch 9/20\n",
      "33/33 [==============================] - 0s 3ms/step - loss: 0.0998 - accuracy: 0.9890\n",
      "Epoch 10/20\n",
      "33/33 [==============================] - 0s 3ms/step - loss: 0.0968 - accuracy: 0.9943\n",
      "Epoch 11/20\n",
      "33/33 [==============================] - 0s 3ms/step - loss: 0.0944 - accuracy: 0.9964\n",
      "Epoch 12/20\n",
      "33/33 [==============================] - 0s 3ms/step - loss: 0.0923 - accuracy: 0.9966\n",
      "Epoch 13/20\n",
      "33/33 [==============================] - 0s 3ms/step - loss: 0.0905 - accuracy: 0.9986\n",
      "Epoch 14/20\n",
      "33/33 [==============================] - 0s 3ms/step - loss: 0.0888 - accuracy: 0.9990\n",
      "Epoch 15/20\n",
      "33/33 [==============================] - 0s 3ms/step - loss: 0.0872 - accuracy: 0.9995\n",
      "Epoch 16/20\n",
      "33/33 [==============================] - 0s 3ms/step - loss: 0.0856 - accuracy: 0.9995\n",
      "Epoch 17/20\n",
      "33/33 [==============================] - 0s 3ms/step - loss: 0.0842 - accuracy: 0.9998\n",
      "Epoch 18/20\n",
      "33/33 [==============================] - 0s 3ms/step - loss: 0.0828 - accuracy: 0.9998\n",
      "Epoch 19/20\n",
      "33/33 [==============================] - 0s 3ms/step - loss: 0.0814 - accuracy: 1.0000\n",
      "Epoch 20/20\n",
      "33/33 [==============================] - 0s 3ms/step - loss: 0.0801 - accuracy: 1.0000\n",
      "44/44 [==============================] - 0s 784us/step - loss: 0.1517 - accuracy: 0.9713\n"
     ]
    },
    {
     "data": {
      "text/plain": [
       "[0.15165342390537262, 0.9712849855422974]"
      ]
     },
     "execution_count": 15,
     "metadata": {},
     "output_type": "execute_result"
    }
   ],
   "source": [
    "model.fit(x_train_trans,y_train,epochs=20,batch_size=128)\n",
    "model.evaluate(x_test_trans,y_test)"
   ]
  },
  {
   "cell_type": "code",
   "execution_count": 16,
   "id": "3281ab2a",
   "metadata": {},
   "outputs": [],
   "source": [
    "from sklearn.metrics import ConfusionMatrixDisplay,confusion_matrix,classification_report"
   ]
  },
  {
   "cell_type": "code",
   "execution_count": 17,
   "id": "fbdc5f59",
   "metadata": {},
   "outputs": [
    {
     "name": "stdout",
     "output_type": "stream",
     "text": [
      "(1393,)\n"
     ]
    },
    {
     "data": {
      "text/plain": [
       "(1393, 1)"
      ]
     },
     "execution_count": 17,
     "metadata": {},
     "output_type": "execute_result"
    }
   ],
   "source": [
    "y_mlp_pred = np.round(model.predict(x_test_trans,batch_size=128,verbose=0),0)\n",
    "print(y_test.shape)\n",
    "y_mlp_pred.shape"
   ]
  },
  {
   "cell_type": "code",
   "execution_count": 18,
   "id": "9ad8463e",
   "metadata": {},
   "outputs": [
    {
     "name": "stdout",
     "output_type": "stream",
     "text": [
      "MLP Model\n"
     ]
    },
    {
     "data": {
      "text/plain": [
       "<sklearn.metrics._plot.confusion_matrix.ConfusionMatrixDisplay at 0x7fb26a57da80>"
      ]
     },
     "execution_count": 18,
     "metadata": {},
     "output_type": "execute_result"
    },
    {
     "data": {
      "image/png": "[encoded data removed]",
      "text/plain": [
       "<Figure size 432x288 with 2 Axes>"
      ]
     },
     "metadata": {
      "needs_background": "light"
     },
     "output_type": "display_data"
    }
   ],
   "source": [
    "print(\"MLP Model\")\n",
    "ConfusionMatrixDisplay(confusion_matrix(y_test,y_mlp_pred),display_labels=['Ham','Spam']).plot()"
   ]
  },
  {
   "cell_type": "code",
   "execution_count": 19,
   "id": "f70572e7",
   "metadata": {},
   "outputs": [
    {
     "data": {
      "text/plain": [
       "array([0., 1.])"
      ]
     },
     "execution_count": 19,
     "metadata": {},
     "output_type": "execute_result"
    }
   ],
   "source": [
    "np.unique(y_test)"
   ]
  },
  {
   "cell_type": "code",
   "execution_count": 20,
   "id": "e755bf1b",
   "metadata": {},
   "outputs": [],
   "source": [
    "model_json = model.to_json()"
   ]
  },
  {
   "cell_type": "code",
   "execution_count": 21,
   "id": "08743183",
   "metadata": {},
   "outputs": [],
   "source": [
    "with open('spam_ham_model_MLP.json','w') as json_file:\n",
    "    json_file.write(model_json)"
   ]
  },
  {
   "cell_type": "code",
   "execution_count": 22,
   "id": "f4abc636",
   "metadata": {
    "scrolled": true
   },
   "outputs": [
    {
     "name": "stdout",
     "output_type": "stream",
     "text": [
      "Model Saved to Disk\n"
     ]
    }
   ],
   "source": [
    "model.save_weights(\"spam_ham_model_MLP.h5\")\n",
    "print(\"Model Saved to Disk\")"
   ]
  },
  {
   "cell_type": "code",
   "execution_count": 27,
   "id": "8c7294bb",
   "metadata": {},
   "outputs": [],
   "source": [
    "from sklearn.pipeline import Pipeline\n",
    "from keras.models import model_from_json\n",
    "import numpy as np\n",
    "import os\n",
    "import warnings\n",
    "warnings.filterwarnings('ignore')"
   ]
  },
  {
   "cell_type": "code",
   "execution_count": 28,
   "id": "cf5f8824",
   "metadata": {},
   "outputs": [],
   "source": [
    "import pickle"
   ]
  },
  {
   "cell_type": "code",
   "execution_count": 31,
   "id": "daf05c33",
   "metadata": {},
   "outputs": [
    {
     "name": "stdout",
     "output_type": "stream",
     "text": [
      "INFO:tensorflow:Assets written to: ram://ad393daa-a4dc-4257-a66e-335313b9c033/assets\n"
     ]
    }
   ],
   "source": [
    "pickle.dump(model, open('spam_MLP.sav','wb'))\n",
    "pickle.dump(transformer, open('spam_tfidf_vect.sav','wb'))"
   ]
  },
  {
   "cell_type": "code",
   "execution_count": 24,
   "id": "e4365ee8",
   "metadata": {},
   "outputs": [],
   "source": [
    "def predictions(text):\n",
    "    transform_text = transformer.transform([text]).toarray()\n",
    "    print(transform_text.shape)\n",
    "    json_file = open('spam_ham_model_MLP.json','r')\n",
    "    loaded_model = json_file.read()\n",
    "    json_file.close()\n",
    "    model = model_from_json(loaded_model)\n",
    "    model.load_weights('spam_ham_model_MLP.h5')\n",
    "    y_predict = np.round(model.predict(transform_text),0)\n",
    "    print(y_predict[0][0])\n",
    "    result = 'spam' if y_predict[0][0]==1 else 'ham'\n",
    "    return result"
   ]
  },
  {
   "cell_type": "code",
   "execution_count": 25,
   "id": "5ceec0da",
   "metadata": {},
   "outputs": [
    {
     "name": "stdout",
     "output_type": "stream",
     "text": [
      "(1, 7265)\n",
      "1/1 [==============================] - 0s 31ms/step\n",
      "1.0\n",
      "spam\n"
     ]
    }
   ],
   "source": [
    "print(predictions(\"Free entry in 2 a wkly comp to win FA Cup final tkts 21st May 2005. Text FA to 87121 to receive entry question(std txt rate)T&C's apply 08452810075over18's\"))"
   ]
  },
  {
   "cell_type": "code",
   "execution_count": 38,
   "id": "3485c353",
   "metadata": {},
   "outputs": [],
   "source": [
    "import pickle\n",
    "import numpy as np\n",
    "import os\n",
    "\n",
    "\n",
    "def model_predict(text):\n",
    "    tfidf = pickle.load(open('spam_tfidf_vect.sav', 'rb'))\n",
    "    transformed_text = tfidf.transform(text)\n",
    "    print(transformed_text.shape)\n",
    "    model = pickle.load(open('spam_MLP.sav', 'rb'))\n",
    "    y_predict = np.round(model.predict(transformed_text), 0)\n",
    "    print(y_predict[0][0])\n",
    "    result = 'spam' if y_predict[0][0] == 1 else 'ham'\n",
    "    return result\n"
   ]
  },
  {
   "cell_type": "code",
   "execution_count": 44,
   "id": "9afa07db",
   "metadata": {},
   "outputs": [
    {
     "name": "stdout",
     "output_type": "stream",
     "text": [
      "1/1 [==============================] - 0s 27ms/step\n",
      "ham\n"
     ]
    },
    {
     "data": {
      "text/plain": [
       "'ham'"
      ]
     },
     "execution_count": 44,
     "metadata": {},
     "output_type": "execute_result"
    }
   ],
   "source": [
    "import pickle\n",
    "import numpy as np\n",
    "\n",
    "\n",
    "def model_predict(text):\n",
    "    tfidf = pickle.load(open('spam_tfidf_vect.sav', 'rb'))\n",
    "    transformed_text = tfidf.transform([text]).toarray()\n",
    "    model = pickle.load(open('spam_MLP.sav', 'rb'))\n",
    "    y_predict = np.round(model.predict(transformed_text), 0)\n",
    "    result = 'spam' if y_predict[0][0] == 1 else 'ham'\n",
    "    print(result)\n",
    "    return result\n",
    "\n",
    "\n",
    "model_predict(\"hello\")\n"
   ]
  },
  {
   "cell_type": "code",
   "execution_count": 46,
   "id": "cd74ba8a",
   "metadata": {},
   "outputs": [],
   "source": [
    "import streamlit as st"
   ]
  },
  {
   "cell_type": "code",
   "execution_count": 52,
   "id": "1add8d4a",
   "metadata": {},
   "outputs": [
    {
     "name": "stdout",
     "output_type": "stream",
     "text": [
      "<module 'streamlit' from '/home/mehathab/.local/lib/python3.10/site-packages/streamlit/__init__.py'>\n"
     ]
    }
   ],
   "source": [
    "st.header(\"Fish Weight Prediction App\")\n",
    "st.text_input(\"Enter your Name: \", key=\"name\")\n",
    "if st.checkbox('Show dataframe'):\n",
    "    df"
   ]
  },
  {
   "cell_type": "code",
   "execution_count": null,
   "id": "ca8293b2",
   "metadata": {},
   "outputs": [],
   "source": []
  }
 ],
 "metadata": {
  "kernelspec": {
   "display_name": "Python 3 (ipykernel)",
   "language": "python",
   "name": "python3"
  },
  "language_info": {
   "codemirror_mode": {
    "name": "ipython",
    "version": 3
   },
   "file_extension": ".py",
   "mimetype": "text/x-python",
   "name": "python",
   "nbconvert_exporter": "python",
   "pygments_lexer": "ipython3",
   "version": "3.10.4"
  }
 },
 "nbformat": 4,
 "nbformat_minor": 5
}
