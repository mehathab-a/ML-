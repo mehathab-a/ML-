{
 "cells": [
  {
   "cell_type": "markdown",
   "id": "499c8fdc",
   "metadata": {},
   "source": [
    "# Spam-Ham Classifier"
   ]
  },
  {
   "cell_type": "code",
   "execution_count": null,
   "id": "8a23b42b",
   "metadata": {},
   "outputs": [],
   "source": []
  },
  {
   "cell_type": "code",
   "execution_count": 1,
   "id": "1d6af86b",
   "metadata": {},
   "outputs": [],
   "source": [
    "import pandas as pd\n",
    "import numpy as np\n",
    "import matplotlib.pyplot as plt"
   ]
  },
  {
   "cell_type": "code",
   "execution_count": 3,
   "id": "9a37c417",
   "metadata": {},
   "outputs": [],
   "source": [
    "df = pd.read_csv('../Spam_Detector/SMSSpamCollection',delimiter='\\t',header=None)"
   ]
  },
  {
   "cell_type": "code",
   "execution_count": 4,
   "id": "22285de7",
   "metadata": {},
   "outputs": [
    {
     "data": {
      "text/plain": [
       "ham     4825\n",
       "spam     747\n",
       "Name: 0, dtype: int64"
      ]
     },
     "execution_count": 4,
     "metadata": {},
     "output_type": "execute_result"
    }
   ],
   "source": [
    "df[0].value_counts()"
   ]
  },
  {
   "cell_type": "code",
   "execution_count": 5,
   "id": "4a4fcb39",
   "metadata": {},
   "outputs": [
    {
     "data": {
      "text/plain": [
       "0    0\n",
       "1    0\n",
       "dtype: int64"
      ]
     },
     "execution_count": 5,
     "metadata": {},
     "output_type": "execute_result"
    }
   ],
   "source": [
    "df.isna().sum()"
   ]
  },
  {
   "cell_type": "code",
   "execution_count": 6,
   "id": "58ab49bc",
   "metadata": {
    "scrolled": true
   },
   "outputs": [
    {
     "name": "stdout",
     "output_type": "stream",
     "text": [
      "<class 'pandas.core.frame.DataFrame'>\n",
      "RangeIndex: 5572 entries, 0 to 5571\n",
      "Data columns (total 2 columns):\n",
      " #   Column  Non-Null Count  Dtype \n",
      "---  ------  --------------  ----- \n",
      " 0   0       5572 non-null   object\n",
      " 1   1       5572 non-null   object\n",
      "dtypes: object(2)\n",
      "memory usage: 87.2+ KB\n"
     ]
    }
   ],
   "source": [
    "df.info()"
   ]
  },
  {
   "cell_type": "markdown",
   "id": "494d0b04",
   "metadata": {},
   "source": [
    "### Tranforming Text Data"
   ]
  },
  {
   "cell_type": "code",
   "execution_count": 7,
   "id": "db9461a5",
   "metadata": {},
   "outputs": [],
   "source": [
    "from sklearn.feature_extraction.text import TfidfVectorizer\n",
    "from sklearn.model_selection import GridSearchCV,cross_val_score,train_test_split\n",
    "x = df[1]\n",
    "y = df[0]"
   ]
  },
  {
   "cell_type": "code",
   "execution_count": 8,
   "id": "5eab5259",
   "metadata": {},
   "outputs": [
    {
     "name": "stdout",
     "output_type": "stream",
     "text": [
      "(4179,)\n",
      "(1393,)\n",
      "(4179,)\n",
      "209     You please give us connection today itself bef...\n",
      "3057                             Webpage s not available!\n",
      "5201    YOU VE WON! Your 4* Costa Del Sol Holiday or £...\n",
      "3761                       We'll join the  &lt;#&gt;  bus\n",
      "1136                      K do I need a login or anything\n",
      "                              ...                        \n",
      "826            Hmm .. Bits and pieces lol ... *sighs* ...\n",
      "3735                    4 tacos + 1 rajas burrito, right?\n",
      "2942    My supervisor find 4 me one lor i thk his stud...\n",
      "2064    URGENT! Your mobile No *********** WON a £2,00...\n",
      "4818    Me too. Mark is taking forever to pick up my p...\n",
      "Name: 1, Length: 4179, dtype: object\n"
     ]
    }
   ],
   "source": [
    "x_train,x_test,y_train,y_test = train_test_split(x,y,random_state=31)\n",
    "print(x_train.shape)\n",
    "print(x_test.shape)\n",
    "print(y_train.shape)\n",
    "print(x_train)"
   ]
  },
  {
   "cell_type": "code",
   "execution_count": 9,
   "id": "94dc6737",
   "metadata": {},
   "outputs": [],
   "source": [
    "transformer = TfidfVectorizer(lowercase=True,ngram_range=(1,1),norm='l1',strip_accents='ascii',stop_words='english')"
   ]
  },
  {
   "cell_type": "code",
   "execution_count": 10,
   "id": "73b81971",
   "metadata": {},
   "outputs": [],
   "source": [
    "x_train_trans = transformer.fit_transform(x_train).toarray()\n",
    "x_test_trans = transformer.transform(x_test).toarray()"
   ]
  },
  {
   "cell_type": "code",
   "execution_count": 11,
   "id": "7e31dcd8",
   "metadata": {},
   "outputs": [
    {
     "name": "stdout",
     "output_type": "stream",
     "text": [
      "(4179, 7265)\n"
     ]
    }
   ],
   "source": [
    "print(x_train_trans.shape)"
   ]
  },
  {
   "cell_type": "code",
   "execution_count": 12,
   "id": "8eac4b62",
   "metadata": {},
   "outputs": [
    {
     "name": "stderr",
     "output_type": "stream",
     "text": [
      "2022-07-14 22:17:10.148918: W tensorflow/stream_executor/platform/default/dso_loader.cc:64] Could not load dynamic library 'libcudart.so.11.0'; dlerror: libcudart.so.11.0: cannot open shared object file: No such file or directory\n",
      "2022-07-14 22:17:10.148937: I tensorflow/stream_executor/cuda/cudart_stub.cc:29] Ignore above cudart dlerror if you do not have a GPU set up on your machine.\n"
     ]
    }
   ],
   "source": [
    "from sklearn.linear_model import LogisticRegression\n",
    "from sklearn.tree import DecisionTreeClassifier\n",
    "from sklearn.ensemble import RandomForestClassifier,AdaBoostClassifier\n",
    "from sklearn.neighbors import KNeighborsClassifier\n",
    "from keras.models import Sequential\n",
    "from keras.layers import Dense\n",
    "from sklearn.metrics import accuracy_score"
   ]
  },
  {
   "cell_type": "code",
   "execution_count": 13,
   "id": "c9931da7",
   "metadata": {},
   "outputs": [],
   "source": [
    "def transform(y_val):\n",
    "    y_new = [1.0 if i=='spam' else 0.0 for i in y_val]\n",
    "    return y_new"
   ]
  },
  {
   "cell_type": "code",
   "execution_count": 14,
   "id": "8dd606c5",
   "metadata": {},
   "outputs": [
    {
     "name": "stdout",
     "output_type": "stream",
     "text": [
      "(4179,)\n"
     ]
    }
   ],
   "source": [
    "y_train = np.array(transform(y_train))\n",
    "y_test = np.array(transform(y_test))\n",
    "print(y_train.shape)"
   ]
  },
  {
   "cell_type": "markdown",
   "id": "2afd9cd0",
   "metadata": {},
   "source": [
    "## Model Training:"
   ]
  },
  {
   "cell_type": "code",
   "execution_count": 19,
   "id": "92256cb1",
   "metadata": {},
   "outputs": [
    {
     "name": "stdout",
     "output_type": "stream",
     "text": [
      "Model: \"sequential_1\"\n",
      "_________________________________________________________________\n",
      " Layer (type)                Output Shape              Param #   \n",
      "=================================================================\n",
      " dense_3 (Dense)             (None, 64)                465024    \n",
      "                                                                 \n",
      " dense_4 (Dense)             (None, 64)                4160      \n",
      "                                                                 \n",
      " dense_5 (Dense)             (None, 1)                 65        \n",
      "                                                                 \n",
      "=================================================================\n",
      "Total params: 469,249\n",
      "Trainable params: 469,249\n",
      "Non-trainable params: 0\n",
      "_________________________________________________________________\n"
     ]
    }
   ],
   "source": [
    "model = Sequential()\n",
    "model.add(Dense(64,activation='relu',input_shape=[x_test_trans.shape[1],],kernel_initializer='uniform'))\n",
    "model.add(Dense(64,activation='relu',kernel_initializer='uniform'))\n",
    "model.add(Dense(1,activation='sigmoid',kernel_initializer='uniform'))\n",
    "model.summary()\n",
    "model.compile(optimizer='adam',loss='binary_crossentropy',metrics=['accuracy'])"
   ]
  },
  {
   "cell_type": "code",
   "execution_count": 20,
   "id": "333574f8",
   "metadata": {},
   "outputs": [
    {
     "name": "stdout",
     "output_type": "stream",
     "text": [
      "Epoch 1/20\n",
      "33/33 [==============================] - 0s 3ms/step - loss: 0.6646 - accuracy: 0.8593\n",
      "Epoch 2/20\n",
      "33/33 [==============================] - 0s 3ms/step - loss: 0.4442 - accuracy: 0.8662\n",
      "Epoch 3/20\n",
      "33/33 [==============================] - 0s 3ms/step - loss: 0.2777 - accuracy: 0.8662\n",
      "Epoch 4/20\n",
      "33/33 [==============================] - 0s 3ms/step - loss: 0.2002 - accuracy: 0.8662\n",
      "Epoch 5/20\n",
      "33/33 [==============================] - 0s 3ms/step - loss: 0.1518 - accuracy: 0.8662\n",
      "Epoch 6/20\n",
      "33/33 [==============================] - 0s 3ms/step - loss: 0.1249 - accuracy: 0.8662\n",
      "Epoch 7/20\n",
      "33/33 [==============================] - 0s 3ms/step - loss: 0.1108 - accuracy: 0.8662\n",
      "Epoch 8/20\n",
      "33/33 [==============================] - 0s 3ms/step - loss: 0.1045 - accuracy: 0.8662\n",
      "Epoch 9/20\n",
      "33/33 [==============================] - 0s 3ms/step - loss: 0.1001 - accuracy: 0.9732\n",
      "Epoch 10/20\n",
      "33/33 [==============================] - 0s 3ms/step - loss: 0.0969 - accuracy: 0.9947\n",
      "Epoch 11/20\n",
      "33/33 [==============================] - 0s 3ms/step - loss: 0.0945 - accuracy: 0.9955\n",
      "Epoch 12/20\n",
      "33/33 [==============================] - 0s 3ms/step - loss: 0.0924 - accuracy: 0.9978\n",
      "Epoch 13/20\n",
      "33/33 [==============================] - 0s 3ms/step - loss: 0.0905 - accuracy: 0.9986\n",
      "Epoch 14/20\n",
      "33/33 [==============================] - 0s 3ms/step - loss: 0.0888 - accuracy: 0.9990\n",
      "Epoch 15/20\n",
      "33/33 [==============================] - 0s 3ms/step - loss: 0.0873 - accuracy: 0.9993\n",
      "Epoch 16/20\n",
      "33/33 [==============================] - 0s 3ms/step - loss: 0.0859 - accuracy: 0.9995\n",
      "Epoch 17/20\n",
      "33/33 [==============================] - 0s 3ms/step - loss: 0.0844 - accuracy: 0.9998\n",
      "Epoch 18/20\n",
      "33/33 [==============================] - 0s 3ms/step - loss: 0.0831 - accuracy: 0.9998\n",
      "Epoch 19/20\n",
      "33/33 [==============================] - 0s 3ms/step - loss: 0.0818 - accuracy: 0.9998\n",
      "Epoch 20/20\n",
      "33/33 [==============================] - 0s 3ms/step - loss: 0.0804 - accuracy: 0.9998\n",
      "44/44 [==============================] - 0s 858us/step - loss: 0.1408 - accuracy: 0.9720\n"
     ]
    },
    {
     "data": {
      "text/plain": [
       "[0.14082446694374084, 0.9720028638839722]"
      ]
     },
     "execution_count": 20,
     "metadata": {},
     "output_type": "execute_result"
    }
   ],
   "source": [
    "model.fit(x_train_trans,y_train,epochs=20,batch_size=128)\n",
    "model.evaluate(x_test_trans,y_test)"
   ]
  },
  {
   "cell_type": "code",
   "execution_count": 21,
   "id": "3281ab2a",
   "metadata": {},
   "outputs": [],
   "source": [
    "from sklearn.metrics import ConfusionMatrixDisplay,confusion_matrix,classification_report"
   ]
  },
  {
   "cell_type": "code",
   "execution_count": 22,
   "id": "fbdc5f59",
   "metadata": {},
   "outputs": [
    {
     "name": "stdout",
     "output_type": "stream",
     "text": [
      "(1393,)\n"
     ]
    },
    {
     "data": {
      "text/plain": [
       "(1393, 1)"
      ]
     },
     "execution_count": 22,
     "metadata": {},
     "output_type": "execute_result"
    }
   ],
   "source": [
    "y_mlp_pred = np.round(model.predict(x_test_trans,batch_size=128,verbose=0),0)\n",
    "print(y_test.shape)\n",
    "y_mlp_pred.shape"
   ]
  },
  {
   "cell_type": "code",
   "execution_count": 23,
   "id": "9ad8463e",
   "metadata": {},
   "outputs": [
    {
     "name": "stdout",
     "output_type": "stream",
     "text": [
      "MLP Model\n"
     ]
    },
    {
     "data": {
      "text/plain": [
       "<sklearn.metrics._plot.confusion_matrix.ConfusionMatrixDisplay at 0x7fec97bc87c0>"
      ]
     },
     "execution_count": 23,
     "metadata": {},
     "output_type": "execute_result"
    },
    {
     "data": {
      "image/png": "[encoded data removed]",
      "text/plain": [
       "<Figure size 432x288 with 2 Axes>"
      ]
     },
     "metadata": {
      "needs_background": "light"
     },
     "output_type": "display_data"
    }
   ],
   "source": [
    "print(\"MLP Model\")\n",
    "ConfusionMatrixDisplay(confusion_matrix(y_test,y_mlp_pred),display_labels=['Ham','Spam']).plot()"
   ]
  },
  {
   "cell_type": "code",
   "execution_count": 24,
   "id": "f70572e7",
   "metadata": {},
   "outputs": [
    {
     "data": {
      "text/plain": [
       "array([0., 1.])"
      ]
     },
     "execution_count": 24,
     "metadata": {},
     "output_type": "execute_result"
    }
   ],
   "source": [
    "np.unique(y_test)"
   ]
  },
  {
   "cell_type": "code",
   "execution_count": 25,
   "id": "e755bf1b",
   "metadata": {},
   "outputs": [],
   "source": [
    "model_json = model.to_json()"
   ]
  },
  {
   "cell_type": "code",
   "execution_count": 26,
   "id": "08743183",
   "metadata": {},
   "outputs": [],
   "source": [
    "with open('spam_ham_model_MLP.json','w') as json_file:\n",
    "    json_file.write(model_json)"
   ]
  },
  {
   "cell_type": "code",
   "execution_count": 27,
   "id": "f4abc636",
   "metadata": {
    "scrolled": true
   },
   "outputs": [
    {
     "name": "stdout",
     "output_type": "stream",
     "text": [
      "Model Saved to Disk\n"
     ]
    }
   ],
   "source": [
    "model.save_weights(\"spam_ham_model_MLP.h5\")\n",
    "print(\"Model Saved to Disk\")"
   ]
  },
  {
   "cell_type": "code",
   "execution_count": 28,
   "id": "8c7294bb",
   "metadata": {},
   "outputs": [],
   "source": [
    "from sklearn.pipeline import Pipeline\n",
    "from keras.models import model_from_json\n",
    "import numpy as np\n",
    "import os\n",
    "import warnings\n",
    "warnings.filterwarnings('ignore')"
   ]
  },
  {
   "cell_type": "code",
   "execution_count": 29,
   "id": "e12f2dfb",
   "metadata": {},
   "outputs": [],
   "source": [
    "import pickle"
   ]
  },
  {
   "cell_type": "code",
   "execution_count": 30,
   "id": "e3f4657d",
   "metadata": {},
   "outputs": [
    {
     "name": "stdout",
     "output_type": "stream",
     "text": [
      "INFO:tensorflow:Assets written to: ram://8e04211a-7723-4d30-affa-aa9f6b29141c/assets\n"
     ]
    }
   ],
   "source": [
    "pickle.dump(model, open('spam_MLP.sav','wb'))\n",
    "pickle.dump(transformer, open('spam_tfidf_vect.sav','wb'))"
   ]
  },
  {
   "cell_type": "code",
   "execution_count": 31,
   "id": "e4365ee8",
   "metadata": {},
   "outputs": [],
   "source": [
    "def predictions(text):\n",
    "    transform_text = transformer.transform([text]).toarray()\n",
    "    print(transform_text.shape)\n",
    "    json_file = open('spam_ham_model_MLP.json','r')\n",
    "    loaded_model = json_file.read()\n",
    "    json_file.close()\n",
    "    model = model_from_json(loaded_model)\n",
    "    model.load_weights('spam_ham_model_MLP.h5')\n",
    "    y_predict = np.round(model.predict(transform_text),0)\n",
    "    print(y_predict[0][0])\n",
    "    result = 'spam' if y_predict[0][0]==1 else 'ham'\n",
    "    return result"
   ]
  },
  {
   "cell_type": "code",
   "execution_count": 32,
   "id": "2c5ed4ba",
   "metadata": {
    "scrolled": false
   },
   "outputs": [],
   "source": [
    "# input = \"\"\n",
    "# print(predictions(input))"
   ]
  },
  {
   "cell_type": "code",
   "execution_count": null,
   "id": "814a9c17",
   "metadata": {},
   "outputs": [],
   "source": []
  }
 ],
 "metadata": {
  "kernelspec": {
   "display_name": "Python 3 (ipykernel)",
   "language": "python",
   "name": "python3"
  },
  "language_info": {
   "codemirror_mode": {
    "name": "ipython",
    "version": 3
   },
   "file_extension": ".py",
   "mimetype": "text/x-python",
   "name": "python",
   "nbconvert_exporter": "python",
   "pygments_lexer": "ipython3",
   "version": "3.10.4"
  }
 },
 "nbformat": 4,
 "nbformat_minor": 5
}
